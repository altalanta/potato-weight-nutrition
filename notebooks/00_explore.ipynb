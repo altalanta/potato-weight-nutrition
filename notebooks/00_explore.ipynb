{
 "cells": [
  {
   "cell_type": "markdown",
   "metadata": {},
   "source": [
    "# Potato Weight-Nutrition Analysis - Exploration\n",
    "\n",
    "Optional notebook for exploratory data analysis and prototyping."
   ]
  },
  {
   "cell_type": "code",
   "execution_count": null,
   "metadata": {},
   "outputs": [],
   "source": [
    "import sys\n",
    "\n",
    "# Add src to path for imports\n",
    "sys.path.append('../src')\n",
    "\n",
    "from potato_pipeline.config import get_config\n",
    "from potato_pipeline.io import load_fiber_daily, load_nutrition_rows, load_tidy"
   ]
  },
  {
   "cell_type": "code",
   "execution_count": null,
   "metadata": {},
   "outputs": [],
   "source": [
    "# Load configuration\n",
    "config = get_config()\n",
    "print(f\"Data directory: {config.base_clean}\")"
   ]
  },
  {
   "cell_type": "code",
   "execution_count": null,
   "metadata": {},
   "outputs": [],
   "source": [
    "# Load data\n",
    "tidy_df = load_tidy(config.tidy_csv)\n",
    "nutrition_df = load_nutrition_rows(config.nutrition_rows_csv)\n",
    "fiber_df = load_fiber_daily(config.fiber_daily_csv)\n",
    "\n",
    "print(f\"Tidy data: {len(tidy_df)} rows\")\n",
    "print(f\"Nutrition data: {len(nutrition_df)} rows\")\n",
    "print(f\"Fiber data: {len(fiber_df)} rows\")"
   ]
  },
  {
   "cell_type": "code",
   "execution_count": null,
   "metadata": {},
   "outputs": [],
   "source": [
    "# Explore data structure\n",
    "if not tidy_df.empty:\n",
    "    print(\"Tidy data columns:\")\n",
    "    print(tidy_df.columns.tolist())\n",
    "    print(\"\\nFirst few rows:\")\n",
    "    display(tidy_df.head())"
   ]
  },
  {
   "cell_type": "code",
   "execution_count": null,
   "metadata": {},
   "outputs": [],
   "source": [
    "# Add your exploratory analysis here\n",
    "# This notebook is for experimentation and should not be part of the main pipeline"
   ]
  }
 ],
 "metadata": {
  "kernelspec": {
   "display_name": "Python 3",
   "language": "python",
   "name": "python3"
  },
  "language_info": {
   "codemirror_mode": {
    "name": "ipython",
    "version": 3
   },
   "file_extension": ".py",
   "mimetype": "text/x-python",
   "name": "python",
   "nbconvert_exporter": "python",
   "pygments_lexer": "ipython3",
   "version": "3.11.0"
  }
 },
 "nbformat": 4,
 "nbformat_minor": 4
}